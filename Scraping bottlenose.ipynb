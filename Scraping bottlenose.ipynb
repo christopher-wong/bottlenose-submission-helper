{
 "cells": [
  {
   "cell_type": "code",
   "execution_count": 1,
   "metadata": {
    "collapsed": false
   },
   "outputs": [],
   "source": [
    "import requests\n",
    "import subprocess\n",
    "from lxml import html\n",
    "from bs4 import BeautifulSoup\n",
    "\n",
    "from requests.packages.urllib3.exceptions import InsecureRequestWarning\n",
    "\n",
    "requests.packages.urllib3.disable_warnings(InsecureRequestWarning)"
   ]
  },
  {
   "cell_type": "code",
   "execution_count": 2,
   "metadata": {
    "collapsed": false
   },
   "outputs": [],
   "source": [
    "LOGIN_URL = \"https://cs3500.ccs.neu.edu/users/sign_in\"\n",
    "REDIRECT_URL = \"https://cs3500.ccs.neu.edu\"\n",
    "\n",
    "USERNAME = 'christopherwong'\n",
    "PASSWORD = 'c8wong'\n",
    "\n",
    "login_payload = {'user[username]': USERNAME,\n",
    "                   'user[password]': PASSWORD}"
   ]
  },
  {
   "cell_type": "code",
   "execution_count": 3,
   "metadata": {
    "collapsed": false
   },
   "outputs": [],
   "source": [
    "# get session\n",
    "s = requests.session()\n",
    "\n",
    "# get login page\n",
    "login = s.get(LOGIN_URL, verify=False)\n",
    "login_html = html.fromstring(login.text)\n",
    "\n",
    "# get csrf-token\n",
    "hidden_inputs = login_html.xpath(r'//form//input[@type=\"hidden\"]')\n",
    "hidden_inputs[1].value\n",
    "token = hidden_inputs[1].value\n",
    "login_payload['authenticity_token'] = token"
   ]
  },
  {
   "cell_type": "code",
   "execution_count": 4,
   "metadata": {
    "collapsed": false
   },
   "outputs": [],
   "source": [
    "response = s.post(LOGIN_URL, \n",
    "                  data=login_payload,\n",
    "                  headers = dict(referer=REDIRECT_URL))"
   ]
  },
  {
   "cell_type": "code",
   "execution_count": 5,
   "metadata": {
    "collapsed": false
   },
   "outputs": [
    {
     "data": {
      "text/plain": [
       "True"
      ]
     },
     "execution_count": 5,
     "metadata": {},
     "output_type": "execute_result"
    }
   ],
   "source": [
    "# check if sign-in was successful\n",
    "'Signed in successfully.' in response.text"
   ]
  },
  {
   "cell_type": "code",
   "execution_count": 6,
   "metadata": {
    "collapsed": false
   },
   "outputs": [],
   "source": [
    "# get link to submission page for first assignment in table\n",
    "soup = BeautifulSoup(response.text, \"lxml\")\n",
    "current_assignment = soup.find(\"td\").a[\"href\"]"
   ]
  },
  {
   "cell_type": "code",
   "execution_count": 7,
   "metadata": {
    "collapsed": false
   },
   "outputs": [],
   "source": [
    "# get link for new submission and get submission page\n",
    "# SUBMISSION_PAGE_URL = REDIRECT_URL + current_assignment + \"/submissions/new\"\n",
    "# submission_page = s.get(SUBMISSION_PAGE_URL, verify=False)"
   ]
  },
  {
   "cell_type": "code",
   "execution_count": 30,
   "metadata": {
    "collapsed": false
   },
   "outputs": [],
   "source": [
    "fileobj = open('submission.zip', 'rb')\n",
    "\n",
    "# create new submission\n",
    "submission_payload = {'submission[time_taken]': \"5.0\",\n",
    "                      'submission[student_notes]': \"Status code 0\",\n",
    "                      'submission[upload_file]': (\"submission.zip\", fileobj)}"
   ]
  },
  {
   "cell_type": "code",
   "execution_count": 51,
   "metadata": {
    "collapsed": false,
    "scrolled": true
   },
   "outputs": [
    {
     "name": "stdout",
     "output_type": "stream",
     "text": [
      "False\n",
      "404\n"
     ]
    }
   ],
   "source": [
    "# post submisison to page\n",
    "SUBMISSION_POST_URL =  REDIRECT_URL + current_assignment + \"/submissions/new\" \n",
    "new_submission = s.post(SUBMISSION_POST_URL,\n",
    "                        data=submission_payload,\n",
    "                        headers = dict(referer=REDIRECT_URL))\n",
    "\n",
    "print(\"Submission was successfully created.\" in new_submission.text)\n",
    "print(new_submission.status_code)"
   ]
  },
  {
   "cell_type": "code",
   "execution_count": null,
   "metadata": {
    "collapsed": false
   },
   "outputs": [],
   "source": []
  },
  {
   "cell_type": "code",
   "execution_count": null,
   "metadata": {
    "collapsed": false
   },
   "outputs": [],
   "source": []
  },
  {
   "cell_type": "code",
   "execution_count": 28,
   "metadata": {
    "collapsed": false
   },
   "outputs": [],
   "source": []
  },
  {
   "cell_type": "code",
   "execution_count": null,
   "metadata": {
    "collapsed": false
   },
   "outputs": [],
   "source": []
  },
  {
   "cell_type": "code",
   "execution_count": null,
   "metadata": {
    "collapsed": true
   },
   "outputs": [],
   "source": []
  }
 ],
 "metadata": {
  "kernelspec": {
   "display_name": "Python [default]",
   "language": "python",
   "name": "python3"
  },
  "language_info": {
   "codemirror_mode": {
    "name": "ipython",
    "version": 3
   },
   "file_extension": ".py",
   "mimetype": "text/x-python",
   "name": "python",
   "nbconvert_exporter": "python",
   "pygments_lexer": "ipython3",
   "version": "3.5.2"
  }
 },
 "nbformat": 4,
 "nbformat_minor": 2
}
